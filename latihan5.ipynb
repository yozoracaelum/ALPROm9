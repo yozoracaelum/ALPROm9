{
 "cells": [
  {
   "cell_type": "code",
   "execution_count": 1,
   "metadata": {},
   "outputs": [],
   "source": [
    "from sympy import *"
   ]
  },
  {
   "cell_type": "code",
   "execution_count": 2,
   "metadata": {},
   "outputs": [
    {
     "ename": "NameError",
     "evalue": "name 'Integrate' is not defined",
     "output_type": "error",
     "traceback": [
      "\u001b[1;31m---------------------------------------------------------------------------\u001b[0m",
      "\u001b[1;31mNameError\u001b[0m                                 Traceback (most recent call last)",
      "Cell \u001b[1;32mIn [2], line 5\u001b[0m\n\u001b[0;32m      3\u001b[0m p2 \u001b[39m=\u001b[39m diff (p1 ,x)\n\u001b[0;32m      4\u001b[0m p3 \u001b[39m=\u001b[39m sin(x)\u001b[39m*\u001b[39mexp (x)\u001b[39m+\u001b[39m exp(x)\u001b[39m*\u001b[39mcos(x)\n\u001b[1;32m----> 5\u001b[0m p4 \u001b[39m=\u001b[39m Integrate (p3 ,x)\n\u001b[0;32m      6\u001b[0m p5 \u001b[39m=\u001b[39m Integrate (sin(x \u001b[39m*\u001b[39m\u001b[39m*\u001b[39m\u001b[39m2\u001b[39m) ,(x,\u001b[39m-\u001b[39moo ,oo))\n\u001b[0;32m      7\u001b[0m \u001b[39mprint\u001b[39m (p1)\n",
      "\u001b[1;31mNameError\u001b[0m: name 'Integrate' is not defined"
     ]
    }
   ],
   "source": [
    "x = symbols ('x')\n",
    "p1 = sin(x)*exp (x)\n",
    "p2 = diff (p1 ,x)\n",
    "p3 = sin(x)*exp (x)+ exp(x)*cos(x)\n",
    "p4 = integrate (p3 ,x)\n",
    "p5 = integrate (sin(x **2) ,(x,-oo ,oo))\n",
    "print (p1)\n",
    "print (p2)\n",
    "print (p3)\n",
    "print (p4)\n",
    "print (p5)"
   ]
  }
 ],
 "metadata": {
  "kernelspec": {
   "display_name": "Python 3.10.7 64-bit",
   "language": "python",
   "name": "python3"
  },
  "language_info": {
   "codemirror_mode": {
    "name": "ipython",
    "version": 3
   },
   "file_extension": ".py",
   "mimetype": "text/x-python",
   "name": "python",
   "nbconvert_exporter": "python",
   "pygments_lexer": "ipython3",
   "version": "3.10.7"
  },
  "orig_nbformat": 4,
  "vscode": {
   "interpreter": {
    "hash": "d696084232e50dffaa391336420e7dacdbcec77c2f268a83cf1262313ad6a821"
   }
  }
 },
 "nbformat": 4,
 "nbformat_minor": 2
}
